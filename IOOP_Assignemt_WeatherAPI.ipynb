{
  "nbformat": 4,
  "nbformat_minor": 0,
  "metadata": {
    "colab": {
      "name": "IOOP_Assignemt_WeatherAPI.ipynb",
      "provenance": [],
      "include_colab_link": true
    },
    "kernelspec": {
      "name": "python3",
      "display_name": "Python 3"
    },
    "language_info": {
      "name": "python"
    }
  },
  "cells": [
    {
      "cell_type": "markdown",
      "metadata": {
        "id": "view-in-github",
        "colab_type": "text"
      },
      "source": [
        "<a href=\"https://colab.research.google.com/github/VikasNagamoti/WeatherAPI/blob/testScript/IOOP_Assignemt_WeatherAPI.ipynb\" target=\"_parent\"><img src=\"https://colab.research.google.com/assets/colab-badge.svg\" alt=\"Open In Colab\"/></a>"
      ]
    },
    {
      "cell_type": "markdown",
      "metadata": {
        "id": "Gx-tuwrspQ7E"
      },
      "source": [
        "# **Implementation**"
      ]
    },
    {
      "cell_type": "code",
      "metadata": {
        "id": "lDNc-x5UJOaR"
      },
      "source": [
        "\"\"\"\n",
        "This project demonstrates a linked list, a queue/list, and a simple sort.\n",
        "User enters in a zip code, which then makes an API call. Each attribute, such as\n",
        "temp, high temp, wind speed, etc., is a node within a linked list. Once the API call is\n",
        "done, it creates a linked list, which then appends each node to a queue. \n",
        "Then it deletes all the nodes so it doesn't add up and up when user continuously enters in zip. But, the previous \n",
        "city checked was stored in a queue, so no lost data.\n",
        "When the user decided to stop, it will prompt the user to search queue for city, sort queue based on city name,\n",
        "make more calls, or exit\n",
        "Here is the link to the API I used: https://openweathermap.org/current\n",
        "Anyone can sign up for a free account to obtain their API key.\n",
        "Then you can start making API calls!\n",
        "\"\"\""
      ],
      "execution_count": null,
      "outputs": []
    },
    {
      "cell_type": "markdown",
      "metadata": {
        "id": "cG66wJD2mpeT"
      },
      "source": [
        "# **Test Script**\n",
        "    1.whether a city is added to the queue or not\n",
        "    2.To check the new city is added then the queue is updated or not\n",
        "    3. To check find() function actually finds the required value or not\n",
        "    4.To check city is removed or not\n",
        "    5. To check whether the website responses or not"
      ]
    }
  ]
}