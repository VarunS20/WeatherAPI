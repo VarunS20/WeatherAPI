{
  "nbformat": 4,
  "nbformat_minor": 0,
  "metadata": {
    "colab": {
      "name": "IOOP_Assignemt_WeatherAPI.ipynb",
      "provenance": [],
      "include_colab_link": true
    },
    "kernelspec": {
      "name": "python3",
      "display_name": "Python 3"
    },
    "language_info": {
      "name": "python"
    }
  },
  "cells": [
    {
      "cell_type": "markdown",
      "metadata": {
        "id": "view-in-github",
        "colab_type": "text"
      },
      "source": [
        "<a href=\"https://colab.research.google.com/github/VikasNagamoti/WeatherAPI/blob/testScript/IOOP_Assignemt_WeatherAPI.ipynb\" target=\"_parent\"><img src=\"https://colab.research.google.com/assets/colab-badge.svg\" alt=\"Open In Colab\"/></a>"
      ]
    },
    {
      "cell_type": "markdown",
      "metadata": {
        "id": "Gx-tuwrspQ7E"
      },
      "source": [
        "# **Implementation**"
      ]
    },
    {
      "cell_type": "markdown",
      "metadata": {
        "id": "cG66wJD2mpeT"
      },
      "source": [
        "# **Test Script**\n",
        "    1.whether a city is added to the queue or not\n",
        "    2.To check the new city is added then the queue is updated or not\n",
        "    3. To check find() function actually finds the required value or not\n",
        "    4.To check city is removed or not\n",
        "    5. To check whether the website responses or not"
      ]
    }
  ]
}